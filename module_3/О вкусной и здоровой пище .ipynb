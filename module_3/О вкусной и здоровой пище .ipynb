{
 "cells": [
  {
   "cell_type": "markdown",
   "metadata": {},
   "source": [
    "# Загрузка Pandas и очистка данных"
   ]
  },
  {
   "cell_type": "code",
   "execution_count": 3573,
   "metadata": {},
   "outputs": [],
   "source": [
    "import pandas as pd\n",
    "import json\n",
    "import numpy as np\n",
    "from datetime import datetime\n",
    "import ast\n",
    "import matplotlib.pyplot as plt\n",
    "import math \n",
    "from selenium import webdriver\n",
    "from bs4 import BeautifulSoup\n",
    "from webdriver_manager.chrome import ChromeDriverManager\n",
    "from selenium.webdriver.chrome.options import Options\n",
    "from sklearn.preprocessing import MinMaxScaler"
   ]
  },
  {
   "cell_type": "code",
   "execution_count": 3574,
   "metadata": {},
   "outputs": [],
   "source": [
    "# Загрузка всех файлов\n",
    "\n",
    "df = pd.read_csv('/Users/tanchik/Downloads/main_task_new.csv')\n",
    "\n",
    "with open('/Users/tanchik/Downloads/coordinates.json') as f:\n",
    "    coordinates = json.load(f) # Спарсила координаты каждого ресторана с сайта TripAdvisor и сохраниала в json файл.\n",
    "    \n",
    "world_cities = pd.read_csv('/Users/tanchik/Downloads/worldcities.csv')\n",
    "world_cities.shape\n",
    "world_cities.drop_duplicates(subset='city', keep='first', inplace=True)"
   ]
  },
  {
   "cell_type": "code",
   "execution_count": 3575,
   "metadata": {},
   "outputs": [],
   "source": [
    "URL_TA = []\n",
    "for i in coordinates:\n",
    "    URL_TA.append(i[26:])"
   ]
  },
  {
   "cell_type": "code",
   "execution_count": 3576,
   "metadata": {},
   "outputs": [],
   "source": [
    "lat_rest = []\n",
    "for i in coordinates:\n",
    "    lat_rest.append(coordinates[i]['lat'])"
   ]
  },
  {
   "cell_type": "code",
   "execution_count": 3577,
   "metadata": {},
   "outputs": [],
   "source": [
    "# На начальном этапе создам переменную, которая определяет, существует ресторан сегодня или нет. \n",
    "\n",
    "is_it_exists = []\n",
    "for i in lat_rest:\n",
    "    if i == 1:\n",
    "        is_it_exists.append(0)\n",
    "    else:\n",
    "        is_it_exists.append(1)"
   ]
  },
  {
   "cell_type": "code",
   "execution_count": 3578,
   "metadata": {},
   "outputs": [
    {
     "data": {
      "text/plain": [
       "39980"
      ]
     },
     "execution_count": 3578,
     "metadata": {},
     "output_type": "execute_result"
    }
   ],
   "source": [
    "lng_rest = []\n",
    "for i in coordinates:\n",
    "    lng_rest.append(coordinates[i]['lang'])\n",
    "len(lng_rest)"
   ]
  },
  {
   "cell_type": "code",
   "execution_count": 3579,
   "metadata": {},
   "outputs": [],
   "source": [
    "for i in range(len(lat_rest)):\n",
    "    if lat_rest[i] == -1:\n",
    "        lat_rest[i] = 1\n",
    "        lng_rest[i] =1\n"
   ]
  },
  {
   "cell_type": "code",
   "execution_count": 3580,
   "metadata": {},
   "outputs": [],
   "source": [
    "recoordinates_of_restaurants = pd.DataFrame({'URL_TA':URL_TA, 'lat_rest':lat_rest, 'lng_rest':lng_rest, 'is_it_exists':is_it_exists})"
   ]
  },
  {
   "cell_type": "code",
   "execution_count": 3581,
   "metadata": {},
   "outputs": [],
   "source": [
    "#### Проанализируем каждый признак и заполним все пропуски"
   ]
  },
  {
   "cell_type": "markdown",
   "metadata": {},
   "source": [
    "Параметры без пропущенных значений: Restaurant_id, City, Ranking, Rating, Reviews, URL_TA, ID_TA\n",
    "Данные в числовом формате: Ranking, Rating, Number of Reviews"
   ]
  },
  {
   "cell_type": "code",
   "execution_count": 3582,
   "metadata": {},
   "outputs": [
    {
     "name": "stdout",
     "output_type": "stream",
     "text": [
      "Процент пропусков для Cuisine Style: 23.2075%\n",
      "Процент пропусков для Price Range: 34.715%\n",
      "Процент пропусков для Number of Reviews: 6.357500000000001%\n"
     ]
    }
   ],
   "source": [
    "# Посчитаем процент пропусков в столбцах:\n",
    "\n",
    "for column in ['Cuisine Style', 'Price Range', 'Number of Reviews']:\n",
    "    print(f'Процент пропусков для {column}: {df[column].isnull().mean()*100}%')"
   ]
  },
  {
   "cell_type": "markdown",
   "metadata": {},
   "source": [
    "Мы видим, что количество пропусков меньше 70% -> наша задача заменить пропуски"
   ]
  },
  {
   "cell_type": "code",
   "execution_count": 3583,
   "metadata": {},
   "outputs": [
    {
     "name": "stdout",
     "output_type": "stream",
     "text": [
      "Самое часто встречаемое значение: $$ - $$$\n"
     ]
    },
    {
     "data": {
      "text/plain": [
       "0"
      ]
     },
     "execution_count": 3583,
     "metadata": {},
     "output_type": "execute_result"
    }
   ],
   "source": [
    "# Заменим пропуски в колонке Price Range самым частым значением\n",
    "\n",
    "print(f'Самое часто встречаемое значение: {df[\"Price Range\"].value_counts().index[0]}')\n",
    "df['Price Range'].fillna('$$ - $$$', inplace=True)\n",
    "df['Price Range'].isnull().sum()"
   ]
  },
  {
   "cell_type": "code",
   "execution_count": 3584,
   "metadata": {},
   "outputs": [],
   "source": [
    "# Создадим список кухонь для каждого ресторана\n",
    "\n",
    "df['Cuisine Style NaN'] = pd.isna(df['Cuisine Style']).astype('uint8')\n",
    "df['Cuisine Style'].fillna('Local cuisine', inplace=True)"
   ]
  },
  {
   "cell_type": "code",
   "execution_count": 3585,
   "metadata": {},
   "outputs": [
    {
     "data": {
      "text/plain": [
       "Text(0.5, 1.0, 'Ranking')"
      ]
     },
     "execution_count": 3585,
     "metadata": {},
     "output_type": "execute_result"
    },
    {
     "data": {
      "image/png": "[encoded data removed]",
      "text/plain": [
       "<Figure size 720x504 with 1 Axes>"
      ]
     },
     "metadata": {},
     "output_type": "display_data"
    }
   ],
   "source": [
    "plt.style.use('fivethirtyeight')\n",
    "plt.hist(df['Ranking'], bins = 100, edgecolor = 'k')\n",
    "plt.xlabel('Ranking') \n",
    "plt.title('Ranking')"
   ]
  },
  {
   "cell_type": "markdown",
   "metadata": {},
   "source": [
    "Мы видим, что распределение смещено влево, разброс ранга по городам огромный."
   ]
  },
  {
   "cell_type": "code",
   "execution_count": 3586,
   "metadata": {},
   "outputs": [
    {
     "data": {
      "text/plain": [
       "<AxesSubplot:>"
      ]
     },
     "execution_count": 3586,
     "metadata": {},
     "output_type": "execute_result"
    },
    {
     "data": {
      "image/png": "[encoded data removed]",
      "text/plain": [
       "<Figure size 720x504 with 1 Axes>"
      ]
     },
     "metadata": {},
     "output_type": "display_data"
    }
   ],
   "source": [
    "plt.rcParams['figure.figsize'] = (10,7)\n",
    "df['City'].value_counts(ascending=True).plot(kind='barh')"
   ]
  },
  {
   "cell_type": "markdown",
   "metadata": {},
   "source": [
    "Мы видим, что ресторанов в Лондоне больше всего. Чем больше ресторанов, тем разнообразнее может быть ранг. Посмотрим распределение Ranking по первым 15 городам:"
   ]
  },
  {
   "cell_type": "code",
   "execution_count": 3587,
   "metadata": {},
   "outputs": [
    {
     "data": {
      "image/png": "[encoded data removed]",
      "text/plain": [
       "<Figure size 720x504 with 1 Axes>"
      ]
     },
     "metadata": {},
     "output_type": "display_data"
    }
   ],
   "source": [
    "for i in (df['City'].value_counts())[0:15].index:\n",
    "    df['Ranking'][df['City'] == i].hist(bins=100)\n",
    "plt.show()"
   ]
  },
  {
   "cell_type": "markdown",
   "metadata": {},
   "source": [
    "Есть предположения, что надо использовать нормализацию. Осуществлю ее в конце над всеми данными.\n",
    "На основе этой информации введу два новых признака: \n",
    "1) Отношение ранга ресторана к общему колучеству ресторанов в городе\n",
    "2) Количество ресторанов на душу населения в городе"
   ]
  },
  {
   "cell_type": "markdown",
   "metadata": {},
   "source": [
    "### Создание новых признаков"
   ]
  },
  {
   "cell_type": "code",
   "execution_count": 3588,
   "metadata": {},
   "outputs": [],
   "source": [
    "# Преобразуем колонку Cuisine_style в список\n",
    "\n",
    "df['Cuisine Style'] = df['Cuisine Style'].apply(lambda x: x.replace('[', '').replace(']', '').replace(\"'\",'').replace(' ', '').split(','))\n",
    "\n",
    "# Создадим признак количество кухонь в каждом ресторане\n",
    "\n",
    "df['cuisine_style_amount'] = df['Cuisine Style'].apply(lambda x: len(x))"
   ]
  },
  {
   "cell_type": "code",
   "execution_count": 3589,
   "metadata": {},
   "outputs": [],
   "source": [
    "# Отсортируем список кухнь\n",
    "\n",
    "new_cuisine = {'Europen' : ['European', 'French', 'German', 'CentralEuropean', 'Italian', \n",
    "                            'Pizza', 'Mediterranean', 'Spanish', 'Café', 'Soups', 'British', \n",
    "                            'Polish', 'Dutch', 'Belgian', 'Irish', 'Seafood', 'Swiss', 'Portuguese',\n",
    "                            'Greek', 'Turkish', 'Hungarian', 'EasternEuropean', 'Swedish', 'Scandinavian',\n",
    "                            'Southwestern', 'Czech', 'Slovenian', 'Balti', 'Austrian', 'Russian', 'Danish', 'Scottish',\n",
    "                            'Ukrainian', 'Norwegian', 'Albanian', 'Croatian', 'Cajun&Creole', 'Romanian', 'Welsh', 'Latvian'],\n",
    "              'Shared kitchen' : ['International', 'Localcuisine', 'Café', 'Fusion', 'Contemporary', 'Delicatessen', 'Soups', 'Diner', 'StreetFood', 'Gastropub'],\n",
    "              'Asian' : ['Japanese', 'Sushi', 'Asian', 'Thai', 'Vietnamese', 'Chinese', 'Seafood', 'Indian', 'Pakistani',\n",
    "                         'Peruvian', 'Tibetan', 'Nepali', 'Korean', 'StreetFood', 'Soups', 'Singaporean', 'Malaysian', \n",
    "                         'MinorityChinese', 'Mongolian', 'Persian', 'Indonesian', 'Armenian', 'Taiwanese', 'Bangladeshi',\n",
    "                         'SriLankan', 'Cambodian', 'CentralAsian', 'Filipino', 'Georgian', 'Azerbaijani', 'Caucasian', \n",
    "                         'Afghani', 'Uzbek', 'Yunnan', 'Xinjiang', 'Burmese', 'Fujian'],\n",
    "              'Meat' : ['Grill', 'Steakhouse', 'Barbecue'],\n",
    "              'Kitchen for vegetarians' : ['VegetarianFriendly', 'VeganOptions'],\n",
    "              'Healthy' : ['VegetarianFriendly', 'VeganOptions', 'GlutenFreeOptions', 'Healthy', 'Halal', 'Kosher'],\n",
    "              'American' : ['FastFood', 'Mexican', 'Venezuelan', 'SouthAmerican', 'Latin', 'Argentinean', \n",
    "                            'CentralAmerican', 'American', 'StreetFood', 'Caribbean', 'Brazilian', 'Ecuadorean',\n",
    "                            'Chilean', 'Cuban', 'Colombian', 'Jamaican', 'Hawaiian', 'Salvadoran',\n",
    "                            'NativeAmerican', 'Canadian'],\n",
    "              'Alcohol' : ['Bar', 'Pub', 'WineBar', 'BrewPub'],\n",
    "              'African' : ['Moroccan', 'African', 'Ethiopian', 'Egyptian', 'Tunisian'],\n",
    "              'Eastern' : ['MiddleEastern', 'Lebanese', 'Halal', 'Israeli', 'Kosher', 'Arabic'],\n",
    "              'Oceania' : ['Australian', 'NewZealand', 'Polynesian']}"
   ]
  },
  {
   "cell_type": "code",
   "execution_count": 3590,
   "metadata": {},
   "outputs": [],
   "source": [
    "def get_new_cuisine(x):\n",
    "    temp_set = set()\n",
    "    for i in new_cuisine:\n",
    "        for j in new_cuisine[i]:\n",
    "            for cuisine in x:\n",
    "                if j == cuisine:\n",
    "                    temp_set.add(i)\n",
    "    return list(temp_set)      \n",
    "\n",
    "df['Cuisine Style'] = df['Cuisine Style'].apply(lambda x: get_new_cuisine(x))"
   ]
  },
  {
   "cell_type": "code",
   "execution_count": 3591,
   "metadata": {},
   "outputs": [],
   "source": [
    "all_cuisine_types = ['Europen', 'Shared kitchen', 'Asian', 'Meat', 'Kitchen for vegetarians', 'Healthy', 'American',\n",
    "                    'Alcohol', 'African', 'Eastern', 'Oceania']\n",
    "zero_array = [0 for i in range(0,40000)]"
   ]
  },
  {
   "cell_type": "code",
   "execution_count": 3592,
   "metadata": {},
   "outputs": [],
   "source": [
    "temp_cuisine_df = pd.DataFrame({'Europen' : zero_array,\n",
    "                               'Shared kitchen' : zero_array,\n",
    "                               'Asian' : zero_array,\n",
    "                               'Meat' : zero_array,\n",
    "                               'Kitchen for vegetarians' : zero_array,\n",
    "                               'Healthy' : zero_array,\n",
    "                               'American' : zero_array,\n",
    "                               'Alcohol' : zero_array,\n",
    "                               'African' : zero_array,\n",
    "                               'Eastern' : zero_array,\n",
    "                               'Oceania' : zero_array})"
   ]
  },
  {
   "cell_type": "code",
   "execution_count": 3593,
   "metadata": {},
   "outputs": [],
   "source": [
    "df = pd.concat([df, temp_cuisine_df], axis=1)"
   ]
  },
  {
   "cell_type": "code",
   "execution_count": 3594,
   "metadata": {},
   "outputs": [],
   "source": [
    "def get_cuisine_columns(x, column):\n",
    "    if column in x:\n",
    "        return 1\n",
    "    else:\n",
    "        return 0"
   ]
  },
  {
   "cell_type": "code",
   "execution_count": 3595,
   "metadata": {},
   "outputs": [],
   "source": [
    "for column in all_cuisine_types:\n",
    "    df[column] = df['Cuisine Style'].apply(lambda x: get_cuisine_columns(x, column))"
   ]
  },
  {
   "cell_type": "code",
   "execution_count": 3596,
   "metadata": {},
   "outputs": [],
   "source": [
    "df.drop(['Cuisine Style'], inplace=True, axis=1)\n",
    "df.drop_duplicates(keep='first', inplace=True)"
   ]
  },
  {
   "cell_type": "code",
   "execution_count": 3597,
   "metadata": {},
   "outputs": [],
   "source": [
    "# Предварительно обработаем колонку Reviews и создадим новый параметр - время отправки комментария\n",
    "\n",
    "df['Reviews'] = df['Reviews'].apply(lambda x: ast.literal_eval(x.replace(', nan', ', \"\"').replace('nan, ', '\"\", ')))\n",
    "df['time_reviews'] = df['Reviews'].apply(lambda x: x[-1])\n",
    "df['Reviews'] = df['Reviews'].apply(lambda x: x[0] if len(x) > 0 else None)\n",
    "df['time_reviews'] = df['time_reviews'].apply(lambda x: [datetime.strptime(x[0], '%m/%d/%Y'), datetime.strptime(x[1],\n",
    "'%m/%d/%Y')] if len(x) > 1 else [datetime.strptime(x[0], '%m/%d/%Y')] if len(x) != 0 else [])"
   ]
  },
  {
   "cell_type": "code",
   "execution_count": 3598,
   "metadata": {},
   "outputs": [
    {
     "name": "stdout",
     "output_type": "stream",
     "text": [
      "0\n"
     ]
    }
   ],
   "source": [
    "# Заменим пропуски в колонке Number of Reviews на количество комментариев в столбце Reviews\n",
    "\n",
    "def fillna_number_of_reviews_column(x):\n",
    "    if np.isnan(x['Number of Reviews']):\n",
    "        return len(x['Reviews'])\n",
    "    return x['Number of Reviews']\n",
    "\n",
    "new_number_of_reviews = df.apply(lambda x: fillna_number_of_reviews_column(x), axis=1)\n",
    "df['Number of Reviews'] = new_number_of_reviews\n",
    "print(df['Number of Reviews'].isnull().sum())"
   ]
  },
  {
   "cell_type": "code",
   "execution_count": 3599,
   "metadata": {},
   "outputs": [],
   "source": [
    "# Создадим признак разницы между публикациями двух комментариев\n",
    "# MAE улучшилось до 0.39\n",
    "\n",
    "df['time_delta'] = df['time_reviews'].apply(lambda x: (x[0].date() - x[1].date()).days if len(x) > 1 else 0 )"
   ]
  },
  {
   "cell_type": "code",
   "execution_count": 3600,
   "metadata": {},
   "outputs": [],
   "source": [
    "# Так как Price Range является ранговой переменной, присвоем 1, 2 и 3 соответственно '$', '$$ - $$$', '$$$$'\n",
    "\n",
    "df['Price Range'] = df['Price Range'].apply(lambda x: 1 if x == '$' else 2 if x == '$$ - $$$' else 3 )\n",
    "\n",
    "df = pd.concat([df, pd.get_dummies(df['Price Range'])], axis=1)"
   ]
  },
  {
   "cell_type": "code",
   "execution_count": 3601,
   "metadata": {},
   "outputs": [
    {
     "data": {
      "text/plain": [
       "id_227      18\n",
       "id_633      18\n",
       "id_436      18\n",
       "id_871      18\n",
       "id_321      17\n",
       "            ..\n",
       "id_10171     1\n",
       "id_14212     1\n",
       "id_14187     1\n",
       "id_11165     1\n",
       "id_9269      1\n",
       "Name: Restaurant_id, Length: 11909, dtype: int64"
      ]
     },
     "execution_count": 3601,
     "metadata": {},
     "output_type": "execute_result"
    }
   ],
   "source": [
    "df['Restaurant_id'].value_counts() # Какие-то рестораны являются сетью -> создадим признак 0 - не сеть, 1 - сеть ресторанов"
   ]
  },
  {
   "cell_type": "code",
   "execution_count": 3602,
   "metadata": {},
   "outputs": [],
   "source": [
    "# Создадим новый признак ресторанных сетей. 0 - не сеть, 1 - сеть.\n",
    "\n",
    "chains_list = list(df['Restaurant_id'].value_counts().iloc[:9082].index)\n",
    "df['restaurant_chains'] = df['Restaurant_id'].apply(lambda x: 1 if x in chains_list else 0)"
   ]
  },
  {
   "cell_type": "code",
   "execution_count": 3603,
   "metadata": {},
   "outputs": [],
   "source": [
    "world_cities.rename(columns={'city':'City'}, inplace=True)"
   ]
  },
  {
   "cell_type": "code",
   "execution_count": 3604,
   "metadata": {},
   "outputs": [
    {
     "data": {
      "text/plain": [
       "Index([          'Restaurant_id',                    'City',\n",
       "                       'Ranking',                  'Rating',\n",
       "                   'Price Range',       'Number of Reviews',\n",
       "                       'Reviews',                  'URL_TA',\n",
       "                         'ID_TA',       'Cuisine Style NaN',\n",
       "          'cuisine_style_amount',                 'Europen',\n",
       "                'Shared kitchen',                   'Asian',\n",
       "                          'Meat', 'Kitchen for vegetarians',\n",
       "                       'Healthy',                'American',\n",
       "                       'Alcohol',                 'African',\n",
       "                       'Eastern',                 'Oceania',\n",
       "                  'time_reviews',              'time_delta',\n",
       "                               1,                         2,\n",
       "                               3,       'restaurant_chains'],\n",
       "      dtype='object')"
      ]
     },
     "execution_count": 3604,
     "metadata": {},
     "output_type": "execute_result"
    }
   ],
   "source": [
    "df.columns"
   ]
  },
  {
   "cell_type": "code",
   "execution_count": 3605,
   "metadata": {},
   "outputs": [],
   "source": [
    "# Посчитаем расстояние от ресторана до центра города\n",
    "\n",
    "# Объеденим датасеты с коорднатами центров город и координатами ресторанов\n",
    "world_cities_lats = world_cities[['City','lat','lng']]\n",
    "df = df.merge(world_cities_lats, on ='City', how='left')\n",
    "df = df.merge(recoordinates_of_restaurants, on = 'URL_TA', how='left')\n",
    "df['lat_rest'].fillna(0, inplace=True)\n",
    "df['lng_rest'].fillna(0, inplace=True)\n",
    "\n",
    "# Напишем фуекцию, которая высчитывает расстояние от одной точки до другой\n",
    "\n",
    "def get_distance(x):\n",
    "    if x['lat_rest'] != 0:\n",
    "        lat1 = x['lat'] * math.pi / 180.0\n",
    "        lat2 = float(x['lat_rest']) * math.pi / 180.0\n",
    "        lng1 = x['lng'] * math.pi / 180.0\n",
    "        lng2 = float(x['lng_rest']) * math.pi / 180.0\n",
    "        rad = 6372795\n",
    "    \n",
    "        dlon = lng2 - lng1\n",
    "        dlat = lat2 - lat1\n",
    "        a = (math.sin(dlat/2))**2 + math.cos(lat1) * math.cos(lat2) * (math.sin(dlon/2))**2\n",
    "        c = 2 * math.atan2(math.sqrt(a), math.sqrt(1-a))\n",
    "        distance = rad * c\n",
    "        return distance\n",
    "    else:\n",
    "        return 0"
   ]
  },
  {
   "cell_type": "code",
   "execution_count": 3606,
   "metadata": {},
   "outputs": [],
   "source": [
    "df['distance'] = df.apply(lambda x: get_distance(x), axis=1)\n",
    "df.drop('lat', inplace=True, axis=1)\n",
    "df.drop('lat_rest', inplace=True, axis=1)\n",
    "df.drop('lng', inplace=True, axis=1)\n",
    "df.drop('lng_rest', inplace=True, axis=1)"
   ]
  },
  {
   "cell_type": "code",
   "execution_count": 3607,
   "metadata": {},
   "outputs": [],
   "source": [
    "df['distance'].fillna(df['distance'].mean(), inplace=True)"
   ]
  },
  {
   "cell_type": "code",
   "execution_count": 3608,
   "metadata": {},
   "outputs": [],
   "source": [
    "# Добавим признак нселения для города\n",
    "\n",
    "df = df.merge(world_cities[['City', 'population']], on='City', how='left')\n",
    "df['population'].fillna(df['population'].mean(), inplace=True)"
   ]
  },
  {
   "cell_type": "code",
   "execution_count": 3609,
   "metadata": {},
   "outputs": [],
   "source": [
    "# Возьмем данные о количестве ресторанов в кокнкретных городах\n",
    "\n",
    "urls = []\n",
    "cities = ['Paris','Stockholm', 'London', 'Berlin', 'Munich', 'Oporto',\n",
    "       'Milan', 'Bratislava', 'Vienna', 'Rome', 'Barcelona', 'Madrid',\n",
    "       'Dublin', 'Brussels', 'Zurich', 'Warsaw', 'Budapest', 'Copenhagen',\n",
    "       'Amsterdam', 'Lyon', 'Hamburg', 'Lisbon', 'Prague', 'Oslo',\n",
    "       'Helsinki', 'Edinburgh', 'Geneva', 'Ljubljana', 'Athens',\n",
    "       'Luxembourg', 'Krakow']\n",
    "for i in cities:\n",
    "    urls.append('https://www.tripadvisor.com' + df[df['City'] == i]['URL_TA'].iloc[0])\n",
    "urls[16] = 'https://www.tripadvisor.com/Restaurant_Review-g274887-d8791087-Reviews-Bunny_Chinese_Fast_Food-Budapest_Central_Hungary.html'\n",
    "urls[18] = 'https://www.tripadvisor.com/Restaurant_Review-g188590-d4588301-Reviews-Villa_Maria_Restaurant_Amsterdam-Amsterdam_North_Holland_Province.html'"
   ]
  },
  {
   "cell_type": "code",
   "execution_count": 3610,
   "metadata": {},
   "outputs": [
    {
     "name": "stderr",
     "output_type": "stream",
     "text": [
      "\n",
      "\n",
      "====== WebDriver manager ======\n",
      "Current google-chrome version is 96.0.4664\n",
      "Get LATEST chromedriver version for 96.0.4664 google-chrome\n",
      "Driver [/Users/tanchik/.wdm/drivers/chromedriver/mac64/96.0.4664.45/chromedriver] found in cache\n",
      "<ipython-input-3610-25a8c8853dc7>:4: DeprecationWarning: executable_path has been deprecated, please pass in a Service object\n",
      "  driver = webdriver.Chrome(ChromeDriverManager().install(), options=options)\n"
     ]
    }
   ],
   "source": [
    "options = Options()\n",
    "options.add_argument(\"--headless\")\n",
    "\n",
    "driver = webdriver.Chrome(ChromeDriverManager().install(), options=options)"
   ]
  },
  {
   "cell_type": "code",
   "execution_count": 3611,
   "metadata": {},
   "outputs": [
    {
     "name": "stdout",
     "output_type": "stream",
     "text": [
      "Количесвто ресторанов для Paris: 15723\n",
      "Количесвто ресторанов для Stockholm: 2790\n",
      "Количесвто ресторанов для London: 17320\n",
      "Количесвто ресторанов для Berlin: 5671\n",
      "Количесвто ресторанов для Munich: 2891\n",
      "Количесвто ресторанов для Oporto: 1866\n",
      "Количесвто ресторанов для Milan: 6785\n",
      "Количесвто ресторанов для Bratislava: 1045\n",
      "Количесвто ресторанов для Vienna: 3838\n",
      "Количесвто ресторанов для Rome: 10420\n",
      "Количесвто ресторанов для Barcelona: 8766\n",
      "Количесвто ресторанов для Madrid: 10420\n",
      "Количесвто ресторанов для Dublin: 2117\n",
      "Количесвто ресторанов для Brussels: 25\n",
      "Количесвто ресторанов для Zurich: 1680\n",
      "Количесвто ресторанов для Warsaw: 2779\n",
      "Количесвто ресторанов для Budapest: 2798\n",
      "Количесвто ресторанов для Copenhagen: 1973\n",
      "Количесвто ресторанов для Amsterdam: 3666\n",
      "Количесвто ресторанов для Lyon: 2601\n",
      "Количесвто ресторанов для Hamburg: 2884\n",
      "Количесвто ресторанов для Lisbon: 228\n",
      "Количесвто ресторанов для Prague: 4669\n",
      "Количесвто ресторанов для Oslo: 1196\n",
      "Количесвто ресторанов для Helsinki: 1386\n",
      "Количесвто ресторанов для Edinburgh: 1771\n",
      "Количесвто ресторанов для Geneva: 1353\n",
      "Количесвто ресторанов для Ljubljana: 547\n",
      "Количесвто ресторанов для Athens: 2376\n",
      "Количесвто ресторанов для Luxembourg: 660\n",
      "Количесвто ресторанов для Krakow: 1526\n"
     ]
    }
   ],
   "source": [
    "numbers_of_restaurants_in_city_array = []\n",
    "\n",
    "for url, city in zip(urls, cities):\n",
    "    driver.get(url)\n",
    "    soup = BeautifulSoup(driver.page_source, 'html.parser')\n",
    "    rest_quantity = int(soup.find('a', class_='fhGHT').text.split()[2].replace(',', ''))\n",
    "    print(f'Количесвто ресторанов для {city}: {rest_quantity}')\n",
    "    numbers_of_restaurants_in_city_array.append(rest_quantity)     "
   ]
  },
  {
   "cell_type": "code",
   "execution_count": 3612,
   "metadata": {},
   "outputs": [],
   "source": [
    "amount_of_restaurants_df = pd.DataFrame({'City' : cities, 'numbers_of_restaurants_in_city' : numbers_of_restaurants_in_city_array})"
   ]
  },
  {
   "cell_type": "code",
   "execution_count": 3613,
   "metadata": {},
   "outputs": [],
   "source": [
    "amount_of_restaurants_df.to_csv('amount_of_restaurants_df.csv', index=False)"
   ]
  },
  {
   "cell_type": "code",
   "execution_count": 3614,
   "metadata": {},
   "outputs": [],
   "source": [
    "temp_df = pd.DataFrame({'City' : cities, 'number_of_restaurants' : numbers_of_restaurants_in_city_array})\n",
    "df = df.merge(temp_df, how='left')"
   ]
  },
  {
   "cell_type": "code",
   "execution_count": 3615,
   "metadata": {},
   "outputs": [],
   "source": [
    "# Введем переменную, отношение ранга ресторана в городе ко всем ресторанам в городе\n",
    "\n",
    "df['rating_ratio'] = df['Ranking']/df['number_of_restaurants']\n",
    "\n",
    "# Введем признак отношение ресторанов в городе к наседению\n",
    "\n",
    "df['restaurants_per_capita'] = df['number_of_restaurants'] / df['population']"
   ]
  },
  {
   "cell_type": "code",
   "execution_count": 3616,
   "metadata": {},
   "outputs": [],
   "source": [
    "# Добавим признак, указывающий на время последнего коментария\n",
    "\n",
    "df['last_review_time'] = df['time_reviews'].apply(lambda x: max(x).day if len(x) > 0 else 0)"
   ]
  },
  {
   "cell_type": "code",
   "execution_count": 3617,
   "metadata": {},
   "outputs": [],
   "source": [
    "df = pd.concat([df, pd.get_dummies(df['City'], dummy_na=True)], axis=1)"
   ]
  },
  {
   "cell_type": "code",
   "execution_count": 3618,
   "metadata": {},
   "outputs": [],
   "source": [
    "# Тестовые данные\n",
    "\n",
    "for i in df.columns:\n",
    "    if type(df[i].iloc[0]) is str or type(df[i].iloc[0]) is list:\n",
    "        df.drop(i, axis=1, inplace=True)"
   ]
  },
  {
   "cell_type": "markdown",
   "metadata": {},
   "source": [
    "# Разбиваем датафрейм на части, необходимые для обучения и тестирования модели"
   ]
  },
  {
   "cell_type": "code",
   "execution_count": 3619,
   "metadata": {},
   "outputs": [],
   "source": [
    "# Х - данные с информацией о ресторанах, у - целевая переменная (рейтинги ресторанов)\n",
    "X = df.drop(['Rating'], axis = 1)\n",
    "y = df['Rating']"
   ]
  },
  {
   "cell_type": "code",
   "execution_count": 3620,
   "metadata": {},
   "outputs": [],
   "source": [
    "scaler = MinMaxScaler()\n",
    "X = pd.DataFrame(scaler.fit_transform(X), columns=[X.columns])"
   ]
  },
  {
   "cell_type": "code",
   "execution_count": 3621,
   "metadata": {},
   "outputs": [],
   "source": [
    "# Загружаем специальный инструмент для разбивки:\n",
    "from sklearn.model_selection import train_test_split"
   ]
  },
  {
   "cell_type": "code",
   "execution_count": 3622,
   "metadata": {},
   "outputs": [],
   "source": [
    "# Наборы данных с меткой \"train\" будут использоваться для обучения модели, \"test\" - для тестирования.\n",
    "# Для тестирования мы будем использовать 25% от исходного датасета.\n",
    "X_train, X_test, y_train, y_test = train_test_split(X, y, test_size=0.25)"
   ]
  },
  {
   "cell_type": "markdown",
   "metadata": {},
   "source": [
    "# Создаём, обучаем и тестируем модель"
   ]
  },
  {
   "cell_type": "code",
   "execution_count": 3623,
   "metadata": {},
   "outputs": [],
   "source": [
    "# Импортируем необходимые библиотеки:\n",
    "from sklearn.ensemble import RandomForestRegressor # инструмент для создания и обучения модели\n",
    "from sklearn import metrics # инструменты для оценки точности модели"
   ]
  },
  {
   "cell_type": "code",
   "execution_count": 3624,
   "metadata": {},
   "outputs": [],
   "source": [
    "# Создаём модель\n",
    "regr = RandomForestRegressor(n_estimators=100)\n",
    "\n",
    "# Обучаем модель на тестовом наборе данных\n",
    "regr.fit(X_train, y_train)\n",
    "\n",
    "# Используем обученную модель для предсказания рейтинга ресторанов в тестовой выборке.\n",
    "# Предсказанные значения записываем в переменную y_pred\n",
    "y_pred = regr.predict(X_test)"
   ]
  },
  {
   "cell_type": "code",
   "execution_count": 3625,
   "metadata": {},
   "outputs": [
    {
     "name": "stdout",
     "output_type": "stream",
     "text": [
      "MAE: 0.21135499999999996\n"
     ]
    }
   ],
   "source": [
    "# Сравниваем предсказанные значения (y_pred) с реальными (y_test), и смотрим насколько они в среднем отличаются\n",
    "# Метрика называется Mean Absolute Error (MAE) и показывает среднее отклонение предсказанных значений от фактических.\n",
    "print('MAE:', metrics.mean_absolute_error(y_test, y_pred))"
   ]
  },
  {
   "cell_type": "code",
   "execution_count": null,
   "metadata": {},
   "outputs": [],
   "source": []
  },
  {
   "cell_type": "code",
   "execution_count": null,
   "metadata": {},
   "outputs": [],
   "source": []
  }
 ],
 "metadata": {
  "kernelspec": {
   "display_name": "Python 3",
   "language": "python",
   "name": "python3"
  },
  "language_info": {
   "codemirror_mode": {
    "name": "ipython",
    "version": 3
   },
   "file_extension": ".py",
   "mimetype": "text/x-python",
   "name": "python",
   "nbconvert_exporter": "python",
   "pygments_lexer": "ipython3",
   "version": "3.8.8"
  }
 },
 "nbformat": 4,
 "nbformat_minor": 2
}
